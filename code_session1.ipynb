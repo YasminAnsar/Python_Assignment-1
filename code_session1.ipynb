{
 "cells": [
  {
   "cell_type": "markdown",
   "metadata": {},
   "source": [
    "Importing python math function"
   ]
  },
  {
   "cell_type": "code",
   "execution_count": 1,
   "metadata": {},
   "outputs": [],
   "source": [
    "import math"
   ]
  },
  {
   "cell_type": "markdown",
   "metadata": {},
   "source": [
    "Declaring two integars that takes input from user using function input()"
   ]
  },
  {
   "cell_type": "code",
   "execution_count": 9,
   "metadata": {},
   "outputs": [],
   "source": [
    "a = int(input('Enter the value for a:  '))\n",
    "b = int(input('Enter the value for b:  '))"
   ]
  },
  {
   "cell_type": "markdown",
   "metadata": {},
   "source": [
    "Adding two numbers"
   ]
  },
  {
   "cell_type": "code",
   "execution_count": 10,
   "metadata": {},
   "outputs": [
    {
     "name": "stdout",
     "output_type": "stream",
     "text": [
      "14\n"
     ]
    }
   ],
   "source": [
    "sum = a + b\n",
    "print(sum)"
   ]
  },
  {
   "cell_type": "markdown",
   "metadata": {},
   "source": [
    "Subrtacting two number"
   ]
  },
  {
   "cell_type": "code",
   "execution_count": 11,
   "metadata": {},
   "outputs": [
    {
     "name": "stdout",
     "output_type": "stream",
     "text": [
      "-2\n"
     ]
    }
   ],
   "source": [
    "diff = b - a\n",
    "print(diff)"
   ]
  },
  {
   "cell_type": "markdown",
   "metadata": {},
   "source": [
    "Multiplying two numbers"
   ]
  },
  {
   "cell_type": "code",
   "execution_count": 12,
   "metadata": {},
   "outputs": [
    {
     "name": "stdout",
     "output_type": "stream",
     "text": [
      "48\n"
     ]
    }
   ],
   "source": [
    "prod = a*b\n",
    "print(prod)"
   ]
  },
  {
   "cell_type": "markdown",
   "metadata": {},
   "source": [
    "The quotient when a is divided by b"
   ]
  },
  {
   "cell_type": "code",
   "execution_count": 13,
   "metadata": {},
   "outputs": [
    {
     "name": "stdout",
     "output_type": "stream",
     "text": [
      "1\n"
     ]
    }
   ],
   "source": [
    "quot = a//b\n",
    "print(quot)"
   ]
  },
  {
   "cell_type": "markdown",
   "metadata": {},
   "source": [
    "The remainder when a is divided by b"
   ]
  },
  {
   "cell_type": "code",
   "execution_count": 14,
   "metadata": {},
   "outputs": [
    {
     "name": "stdout",
     "output_type": "stream",
     "text": [
      "2\n"
     ]
    }
   ],
   "source": [
    "remainder = a%b\n",
    "print(remainder)"
   ]
  },
  {
   "cell_type": "markdown",
   "metadata": {},
   "source": [
    "The result of $log_{10}a$"
   ]
  },
  {
   "cell_type": "code",
   "execution_count": 17,
   "metadata": {},
   "outputs": [
    {
     "name": "stdout",
     "output_type": "stream",
     "text": [
      "0.9030899869919435\n"
     ]
    }
   ],
   "source": [
    "import math\n",
    "log_a = math.log10(a)\n",
    "print(log_a)"
   ]
  },
  {
   "cell_type": "markdown",
   "metadata": {},
   "source": [
    "The result of a**b\n"
   ]
  },
  {
   "cell_type": "code",
   "execution_count": null,
   "metadata": {},
   "outputs": [],
   "source": [
    "expoab = a**b\n",
    "print(expoab)"
   ]
  },
  {
   "cell_type": "markdown",
   "metadata": {},
   "source": [
    "Question#2:\n",
    "In the US, fuel efficiency for vehicles is normally expressed in miles-per-gallon (MPG). In Canada, fuel efficiency is normally expressed in liters-per-hundred-kilometers (L/100 km). Use your research skills to determine how to convert from MPG to L/100 km. Then create a program that reads a value from the user (in American units) and displays the equivalent fuel efficiency in Canadian units."
   ]
  },
  {
   "cell_type": "code",
   "execution_count": 22,
   "metadata": {},
   "outputs": [
    {
     "name": "stdout",
     "output_type": "stream",
     "text": [
      "6.81768115942029\n"
     ]
    }
   ],
   "source": [
    "#Formula for converting mpg to L/100km\n",
    "#L/100km = 235.21/mpg\n",
    "\n",
    "miles_per_gallon = float(input(\"Enter the miles per gallons: \"))\n",
    "Canidian_units = 235.21/miles_per_gallon\n",
    "print(Canidian_units)"
   ]
  },
  {
   "cell_type": "markdown",
   "metadata": {},
   "source": [
    "Question#3\n",
    "The surface of the earth is curved, and the distance between degrees of longitude varies with latitude. As a result, finding the distance between two points on the surface of the earth is more complicated than simply using the Pythagorean theorem. The equation for finding the distance between two points on the surface of the earth in kilometers is given by:    \n",
    "    $distance = 6371.01 \\times arccos(sin(lat_1) \\times sin(lat_2)+cos(lat_1)\\times cos(lat_2)\\times cos(long_1-long_2))$\n",
    "    where: $(lat_1, long_1)$ and $(lat_2,long_2)$  are the latitude and longitude of two points on the Earth’s surface.\n",
    "    Create a program that allows the user to enter the latitude and longitude of two points on the Earth in degrees. Your program should display the distance between the points in kilometers.\n",
    "    Also assuming we travel using an aeroplane that is moving at a minimum speed of `740 km/h` how long will it take us to travel that distance?"
   ]
  },
  {
   "cell_type": "code",
   "execution_count": 5,
   "metadata": {},
   "outputs": [
    {
     "name": "stdout",
     "output_type": "stream",
     "text": [
      "Distance between Pakistan and Sweden  is 4971.949283521839.\n",
      "Time need to cover the distance between Pakistan and Sweden is 6.71885038313762 hours \n"
     ]
    }
   ],
   "source": [
    "##30.3753, 69.3451 (Pakistan)\n",
    "##60.1282, 18.6435 (Sweden)\n",
    "import math\n",
    "starting_point = input(\"Enter the starting country name: \")\n",
    "lat1 = math.radians(float(input(\"Enter the latitude1: \")))\n",
    "long1 = math.radians(float(input(\"Enter the longitude: \")))\n",
    "destination_point = input(\"Enter the destination country name: \")\n",
    "lat2 = math.radians(float(input(\"Enter the latitude2: \")))\n",
    "long2 = math.radians(float(input(\"Enter the longitude: \")))\n",
    "## formula for calculating the distance\n",
    "distance  = 6371.01 * math.acos(math.sin(lat1)*math.sin(lat2) + math.cos(lat1) * math.cos(lat2) * math.cos(long1 - long2))\n",
    "print(f\"Distance between {starting_point} and {destination_point}  is {distance}.\")\n",
    "\n",
    "# calculate the time to cover that distance \n",
    "#Areoplane speed  = 740 km/h\n",
    "\n",
    "time_required = distance/ 740\n",
    "\n",
    "print(f\"Time need to cover the distance between {starting_point} and {destination_point} is {time_required} hours \")"
   ]
  },
  {
   "cell_type": "markdown",
   "metadata": {},
   "source": [
    "Question #4\n",
    "Distance units: Create a program that begins by reading a measurement from the user in feet. Then your program should display the equivalent distance in inches, yards and miles. Use your research skills to look up the necessary conversion factors.\n",
    "**Hint:**Use the `input()` function, but add a little spice to it, by displaying a prompt for the user to understand they are inputting a value in feet.*"
   ]
  },
  {
   "cell_type": "code",
   "execution_count": null,
   "metadata": {},
   "outputs": [],
   "source": [
    "##user input in feets\n",
    "measurement_ft = float(input(\"Enter the measurement in feet: \"))\n",
    "print(f\"Measurement in feet is {measurement_ft}\")\n",
    "#Conversion (feet in inches)\n",
    "measurement_in = measurement_ft * 12\n",
    "print(f\"Measurement in inches is {measurement_in}\")\n",
    "#Conversion (feet in yards)\n",
    "measurement_yd = round(measurement_ft/3,4)\n",
    "print(f\"Measurement in yards is {measurement_yd}\")\n",
    "#Conversion (feet in yards)\n",
    "measurement_mile = round(measurement_ft/5280,4)\n",
    "print(f\"Measurement in miles is {measurement_mile}\")"
   ]
  },
  {
   "cell_type": "markdown",
   "metadata": {},
   "source": [
    "Question #5\n",
    "Area of a regular polygon: A polygon is regular if its sides are all the same length and the angles between all of the adjacent sides are equal. The area of a regular polygon can be computed using the following formula, where 's' is the length of a side and 'n' is the number of sides.\n",
    "$\\boxed{area = \\frac {n \\times s^2} {4 \\times \\tan (\\frac{\\pi}{n})} }\n",
    "Write a program that reads ***s*** and ***n*** from the user and then displays the area of a regular polygon constructed from these values."
   ]
  },
  {
   "cell_type": "code",
   "execution_count": null,
   "metadata": {},
   "outputs": [],
   "source": [
    "s = float(input(\"Enter the polygone side length: \"))\n",
    "n = float(input(\"Enter the number of polygone sides \"))\n",
    "##Formula to calculate the area of a regular polygone\n",
    "area = (n * s**2)/(4 * math.tan(math.pi/n))\n",
    "print(f\"Area of the regular polygone is {area} m2\")"
   ]
  },
  {
   "cell_type": "markdown",
   "metadata": {},
   "source": [
    "Question #6\n",
    "Current Time: Python has a couple of modules that can be used when working with time. This includes a module called `time` and a function/method within the `time` module called `asctime`. It reads the current time from the computer’s internal clock and returns it in a human-readable format. Write a program that displays the current time and date. Your program will not require any input from the user.\n",
    "*Hint:*\n",
    "import `time` to your working environment/kernel and explore all functions within the time module.*"
   ]
  },
  {
   "cell_type": "code",
   "execution_count": 6,
   "metadata": {},
   "outputs": [
    {
     "data": {
      "text/plain": [
       "'Fri Nov 18 14:35:52 2022'"
      ]
     },
     "execution_count": 6,
     "metadata": {},
     "output_type": "execute_result"
    }
   ],
   "source": [
    "import time\n",
    "\n",
    "time.asctime()\n"
   ]
  },
  {
   "cell_type": "markdown",
   "metadata": {},
   "source": [
    "Question #7\n",
    "Wind Chill Index: When the wind blows in cold weather, the air feels even colder that it actually is because the movement of the air increases the rate of cooling for warm objects, like people. This effect is known as wind chill.The formula below is used to compute the wind chill index.     \n",
    "$WCI = 13.12 + 0.6215T_a - 11.37V^{0.16}+0.3965T_aV^{0.16}$ Where: $T_a$ is the air temperature in degrees Celsius and $V$ is the wind speed in kilometers per hour. Write a program that begins by reading the air temperature and wind speed from the user. Once these values have been read, your program should display the wind chill index rounded to the closes integer.\n",
    "Hint:Use the `round()` python inbuilt function to round values to a determinate number of decimal places.*"
   ]
  },
  {
   "cell_type": "code",
   "execution_count": 13,
   "metadata": {},
   "outputs": [
    {
     "name": "stdout",
     "output_type": "stream",
     "text": [
      "50.0\n"
     ]
    }
   ],
   "source": [
    "#User input for temperature and wind speed\n",
    "T = float(input(\"Enter the temperature in degree: \"))\n",
    "V = float(input(\"Enter the wind speed in km/h\"))\n",
    "#windspeed formula\n",
    "wind_chill_index = round((13.12 + 0.6215*T - 11.37 * V**0.16 + 0.3965 *T*V**0.16),0)\n",
    "print(wind_chill_index)"
   ]
  },
  {
   "cell_type": "markdown",
   "metadata": {},
   "source": [
    "Question #8\n",
    "**TEASER/BONUS QUESTION:*** Sum of digits in an integer: Develop a program that reads a four digit integer from the user and displays the sum of the digits in the number. For example, if the user enters 3141 then your program should display the result of the sum $3+1+4+1=9$.\n",
    "Hint:Type conversion, string split operation, python sum operation."
   ]
  },
  {
   "cell_type": "code",
   "execution_count": 35,
   "metadata": {},
   "outputs": [
    {
     "name": "stdout",
     "output_type": "stream",
     "text": [
      "[1, 2, 3, 4]\n",
      "10\n"
     ]
    }
   ],
   "source": [
    "#asks user to enter 4 digit integer\n",
    "n = str(input(\"Enter 4 digit number: \"))\n",
    "#splitting the number string into digits\n",
    "numbers = [int(i) for i in n]\n",
    "print(numbers)\n",
    "sum =  numbers[0]+numbers[1]+numbers[2]+numbers[3]\n",
    "print(sum)\n"
   ]
  },
  {
   "cell_type": "markdown",
   "metadata": {},
   "source": []
  }
 ],
 "metadata": {
  "kernelspec": {
   "display_name": "Python 3.11.0 64-bit",
   "language": "python",
   "name": "python3"
  },
  "language_info": {
   "codemirror_mode": {
    "name": "ipython",
    "version": 3
   },
   "file_extension": ".py",
   "mimetype": "text/x-python",
   "name": "python",
   "nbconvert_exporter": "python",
   "pygments_lexer": "ipython3",
   "version": "3.11.0"
  },
  "orig_nbformat": 4,
  "vscode": {
   "interpreter": {
    "hash": "abf1935dff6ce16d1bc561b786c949d1ee9a2c144cfe4d8a7134240bf2a33342"
   }
  }
 },
 "nbformat": 4,
 "nbformat_minor": 2
}
